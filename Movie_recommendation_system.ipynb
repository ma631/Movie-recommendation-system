{
  "nbformat": 4,
  "nbformat_minor": 0,
  "metadata": {
    "colab": {
      "name": "Movie recommendation system.ipynb",
      "provenance": [],
      "mount_file_id": "1jAP7H7yLXQImmQI09DFdqL-Vkxw3G9EE",
      "authorship_tag": "ABX9TyNgP/+K0aSmuvXAHtdlN+w+",
      "include_colab_link": true
    },
    "kernelspec": {
      "name": "python3",
      "display_name": "Python 3"
    },
    "language_info": {
      "name": "python"
    }
  },
  "cells": [
    {
      "cell_type": "markdown",
      "metadata": {
        "id": "view-in-github",
        "colab_type": "text"
      },
      "source": [
        "<a href=\"https://colab.research.google.com/github/ma631/Movie-recommendation-system/blob/main/Movie_recommendation_system.ipynb\" target=\"_parent\"><img src=\"https://colab.research.google.com/assets/colab-badge.svg\" alt=\"Open In Colab\"/></a>"
      ]
    },
    {
      "cell_type": "code",
      "metadata": {
        "id": "SjGlrItXX5_c"
      },
      "source": [
        "import pandas as pd"
      ],
      "execution_count": null,
      "outputs": []
    },
    {
      "cell_type": "code",
      "metadata": {
        "id": "pxEzYuhgbmsY"
      },
      "source": [
        "movie = pd.read_csv('/content/drive/MyDrive/movies_metadata.csv', low_memory=False)"
      ],
      "execution_count": null,
      "outputs": []
    },
    {
      "cell_type": "markdown",
      "metadata": {
        "id": "pyXh1ZoTN3BQ"
      },
      "source": [
        "Print first 6 rows of dataset"
      ]
    },
    {
      "cell_type": "code",
      "metadata": {
        "id": "XCSUcz4wb0PL",
        "colab": {
          "base_uri": "https://localhost:8080/",
          "height": 765
        },
        "outputId": "3c4125ff-d129-4b0a-e5aa-516349238677"
      },
      "source": [
        "movie.head(6)"
      ],
      "execution_count": null,
      "outputs": [
        {
          "output_type": "execute_result",
          "data": {
            "text/html": [
              "<div>\n",
              "<style scoped>\n",
              "    .dataframe tbody tr th:only-of-type {\n",
              "        vertical-align: middle;\n",
              "    }\n",
              "\n",
              "    .dataframe tbody tr th {\n",
              "        vertical-align: top;\n",
              "    }\n",
              "\n",
              "    .dataframe thead th {\n",
              "        text-align: right;\n",
              "    }\n",
              "</style>\n",
              "<table border=\"1\" class=\"dataframe\">\n",
              "  <thead>\n",
              "    <tr style=\"text-align: right;\">\n",
              "      <th></th>\n",
              "      <th>adult</th>\n",
              "      <th>belongs_to_collection</th>\n",
              "      <th>budget</th>\n",
              "      <th>genres</th>\n",
              "      <th>homepage</th>\n",
              "      <th>id</th>\n",
              "      <th>imdb_id</th>\n",
              "      <th>original_language</th>\n",
              "      <th>original_title</th>\n",
              "      <th>overview</th>\n",
              "      <th>popularity</th>\n",
              "      <th>poster_path</th>\n",
              "      <th>production_companies</th>\n",
              "      <th>production_countries</th>\n",
              "      <th>release_date</th>\n",
              "      <th>revenue</th>\n",
              "      <th>runtime</th>\n",
              "      <th>spoken_languages</th>\n",
              "      <th>status</th>\n",
              "      <th>tagline</th>\n",
              "      <th>title</th>\n",
              "      <th>video</th>\n",
              "      <th>vote_average</th>\n",
              "      <th>vote_count</th>\n",
              "    </tr>\n",
              "  </thead>\n",
              "  <tbody>\n",
              "    <tr>\n",
              "      <th>0</th>\n",
              "      <td>False</td>\n",
              "      <td>{'id': 10194, 'name': 'Toy Story Collection', ...</td>\n",
              "      <td>30000000</td>\n",
              "      <td>[{'id': 16, 'name': 'Animation'}, {'id': 35, '...</td>\n",
              "      <td>http://toystory.disney.com/toy-story</td>\n",
              "      <td>862</td>\n",
              "      <td>tt0114709</td>\n",
              "      <td>en</td>\n",
              "      <td>Toy Story</td>\n",
              "      <td>Led by Woody, Andy's toys live happily in his ...</td>\n",
              "      <td>21.946943</td>\n",
              "      <td>/rhIRbceoE9lR4veEXuwCC2wARtG.jpg</td>\n",
              "      <td>[{'name': 'Pixar Animation Studios', 'id': 3}]</td>\n",
              "      <td>[{'iso_3166_1': 'US', 'name': 'United States o...</td>\n",
              "      <td>1995-10-30</td>\n",
              "      <td>373554033.0</td>\n",
              "      <td>81.0</td>\n",
              "      <td>[{'iso_639_1': 'en', 'name': 'English'}]</td>\n",
              "      <td>Released</td>\n",
              "      <td>NaN</td>\n",
              "      <td>Toy Story</td>\n",
              "      <td>False</td>\n",
              "      <td>7.7</td>\n",
              "      <td>5415.0</td>\n",
              "    </tr>\n",
              "    <tr>\n",
              "      <th>1</th>\n",
              "      <td>False</td>\n",
              "      <td>NaN</td>\n",
              "      <td>65000000</td>\n",
              "      <td>[{'id': 12, 'name': 'Adventure'}, {'id': 14, '...</td>\n",
              "      <td>NaN</td>\n",
              "      <td>8844</td>\n",
              "      <td>tt0113497</td>\n",
              "      <td>en</td>\n",
              "      <td>Jumanji</td>\n",
              "      <td>When siblings Judy and Peter discover an encha...</td>\n",
              "      <td>17.015539</td>\n",
              "      <td>/vzmL6fP7aPKNKPRTFnZmiUfciyV.jpg</td>\n",
              "      <td>[{'name': 'TriStar Pictures', 'id': 559}, {'na...</td>\n",
              "      <td>[{'iso_3166_1': 'US', 'name': 'United States o...</td>\n",
              "      <td>1995-12-15</td>\n",
              "      <td>262797249.0</td>\n",
              "      <td>104.0</td>\n",
              "      <td>[{'iso_639_1': 'en', 'name': 'English'}, {'iso...</td>\n",
              "      <td>Released</td>\n",
              "      <td>Roll the dice and unleash the excitement!</td>\n",
              "      <td>Jumanji</td>\n",
              "      <td>False</td>\n",
              "      <td>6.9</td>\n",
              "      <td>2413.0</td>\n",
              "    </tr>\n",
              "    <tr>\n",
              "      <th>2</th>\n",
              "      <td>False</td>\n",
              "      <td>{'id': 119050, 'name': 'Grumpy Old Men Collect...</td>\n",
              "      <td>0</td>\n",
              "      <td>[{'id': 10749, 'name': 'Romance'}, {'id': 35, ...</td>\n",
              "      <td>NaN</td>\n",
              "      <td>15602</td>\n",
              "      <td>tt0113228</td>\n",
              "      <td>en</td>\n",
              "      <td>Grumpier Old Men</td>\n",
              "      <td>A family wedding reignites the ancient feud be...</td>\n",
              "      <td>11.7129</td>\n",
              "      <td>/6ksm1sjKMFLbO7UY2i6G1ju9SML.jpg</td>\n",
              "      <td>[{'name': 'Warner Bros.', 'id': 6194}, {'name'...</td>\n",
              "      <td>[{'iso_3166_1': 'US', 'name': 'United States o...</td>\n",
              "      <td>1995-12-22</td>\n",
              "      <td>0.0</td>\n",
              "      <td>101.0</td>\n",
              "      <td>[{'iso_639_1': 'en', 'name': 'English'}]</td>\n",
              "      <td>Released</td>\n",
              "      <td>Still Yelling. Still Fighting. Still Ready for...</td>\n",
              "      <td>Grumpier Old Men</td>\n",
              "      <td>False</td>\n",
              "      <td>6.5</td>\n",
              "      <td>92.0</td>\n",
              "    </tr>\n",
              "    <tr>\n",
              "      <th>3</th>\n",
              "      <td>False</td>\n",
              "      <td>NaN</td>\n",
              "      <td>16000000</td>\n",
              "      <td>[{'id': 35, 'name': 'Comedy'}, {'id': 18, 'nam...</td>\n",
              "      <td>NaN</td>\n",
              "      <td>31357</td>\n",
              "      <td>tt0114885</td>\n",
              "      <td>en</td>\n",
              "      <td>Waiting to Exhale</td>\n",
              "      <td>Cheated on, mistreated and stepped on, the wom...</td>\n",
              "      <td>3.859495</td>\n",
              "      <td>/16XOMpEaLWkrcPqSQqhTmeJuqQl.jpg</td>\n",
              "      <td>[{'name': 'Twentieth Century Fox Film Corporat...</td>\n",
              "      <td>[{'iso_3166_1': 'US', 'name': 'United States o...</td>\n",
              "      <td>1995-12-22</td>\n",
              "      <td>81452156.0</td>\n",
              "      <td>127.0</td>\n",
              "      <td>[{'iso_639_1': 'en', 'name': 'English'}]</td>\n",
              "      <td>Released</td>\n",
              "      <td>Friends are the people who let you be yourself...</td>\n",
              "      <td>Waiting to Exhale</td>\n",
              "      <td>False</td>\n",
              "      <td>6.1</td>\n",
              "      <td>34.0</td>\n",
              "    </tr>\n",
              "    <tr>\n",
              "      <th>4</th>\n",
              "      <td>False</td>\n",
              "      <td>{'id': 96871, 'name': 'Father of the Bride Col...</td>\n",
              "      <td>0</td>\n",
              "      <td>[{'id': 35, 'name': 'Comedy'}]</td>\n",
              "      <td>NaN</td>\n",
              "      <td>11862</td>\n",
              "      <td>tt0113041</td>\n",
              "      <td>en</td>\n",
              "      <td>Father of the Bride Part II</td>\n",
              "      <td>Just when George Banks has recovered from his ...</td>\n",
              "      <td>8.387519</td>\n",
              "      <td>/e64sOI48hQXyru7naBFyssKFxVd.jpg</td>\n",
              "      <td>[{'name': 'Sandollar Productions', 'id': 5842}...</td>\n",
              "      <td>[{'iso_3166_1': 'US', 'name': 'United States o...</td>\n",
              "      <td>1995-02-10</td>\n",
              "      <td>76578911.0</td>\n",
              "      <td>106.0</td>\n",
              "      <td>[{'iso_639_1': 'en', 'name': 'English'}]</td>\n",
              "      <td>Released</td>\n",
              "      <td>Just When His World Is Back To Normal... He's ...</td>\n",
              "      <td>Father of the Bride Part II</td>\n",
              "      <td>False</td>\n",
              "      <td>5.7</td>\n",
              "      <td>173.0</td>\n",
              "    </tr>\n",
              "    <tr>\n",
              "      <th>5</th>\n",
              "      <td>False</td>\n",
              "      <td>NaN</td>\n",
              "      <td>60000000</td>\n",
              "      <td>[{'id': 28, 'name': 'Action'}, {'id': 80, 'nam...</td>\n",
              "      <td>NaN</td>\n",
              "      <td>949</td>\n",
              "      <td>tt0113277</td>\n",
              "      <td>en</td>\n",
              "      <td>Heat</td>\n",
              "      <td>Obsessive master thief, Neil McCauley leads a ...</td>\n",
              "      <td>17.924927</td>\n",
              "      <td>/zMyfPUelumio3tiDKPffaUpsQTD.jpg</td>\n",
              "      <td>[{'name': 'Regency Enterprises', 'id': 508}, {...</td>\n",
              "      <td>[{'iso_3166_1': 'US', 'name': 'United States o...</td>\n",
              "      <td>1995-12-15</td>\n",
              "      <td>187436818.0</td>\n",
              "      <td>170.0</td>\n",
              "      <td>[{'iso_639_1': 'en', 'name': 'English'}, {'iso...</td>\n",
              "      <td>Released</td>\n",
              "      <td>A Los Angeles Crime Saga</td>\n",
              "      <td>Heat</td>\n",
              "      <td>False</td>\n",
              "      <td>7.7</td>\n",
              "      <td>1886.0</td>\n",
              "    </tr>\n",
              "  </tbody>\n",
              "</table>\n",
              "</div>"
            ],
            "text/plain": [
              "   adult  ... vote_count\n",
              "0  False  ...     5415.0\n",
              "1  False  ...     2413.0\n",
              "2  False  ...       92.0\n",
              "3  False  ...       34.0\n",
              "4  False  ...      173.0\n",
              "5  False  ...     1886.0\n",
              "\n",
              "[6 rows x 24 columns]"
            ]
          },
          "metadata": {},
          "execution_count": 3
        }
      ]
    },
    {
      "cell_type": "code",
      "metadata": {
        "id": "fFlCvcrbc3Ay",
        "colab": {
          "base_uri": "https://localhost:8080/"
        },
        "outputId": "15868d9f-6dc2-4fcb-9129-dbb80691cc49"
      },
      "source": [
        "from google.colab import drive\n",
        "drive.mount('/content/drive')"
      ],
      "execution_count": null,
      "outputs": [
        {
          "output_type": "stream",
          "text": [
            "Drive already mounted at /content/drive; to attempt to forcibly remount, call drive.mount(\"/content/drive\", force_remount=True).\n"
          ],
          "name": "stdout"
        }
      ]
    },
    {
      "cell_type": "code",
      "metadata": {
        "id": "Hx17UZrxegM-",
        "colab": {
          "base_uri": "https://localhost:8080/"
        },
        "outputId": "ac699ecc-9961-40c1-c361-e9d0b9a6d7e5"
      },
      "source": [
        "movie.shape"
      ],
      "execution_count": null,
      "outputs": [
        {
          "output_type": "execute_result",
          "data": {
            "text/plain": [
              "(45466, 24)"
            ]
          },
          "metadata": {},
          "execution_count": 5
        }
      ]
    },
    {
      "cell_type": "markdown",
      "metadata": {
        "id": "uvaSrAM0O_s7"
      },
      "source": [
        "Print total no. of columns\n"
      ]
    },
    {
      "cell_type": "code",
      "metadata": {
        "colab": {
          "base_uri": "https://localhost:8080/"
        },
        "id": "B8WQlTL3MKG7",
        "outputId": "cb2fbdff-083e-47de-e99d-a164e3a8502f"
      },
      "source": [
        "movie.info()"
      ],
      "execution_count": null,
      "outputs": [
        {
          "output_type": "stream",
          "text": [
            "<class 'pandas.core.frame.DataFrame'>\n",
            "RangeIndex: 45466 entries, 0 to 45465\n",
            "Data columns (total 24 columns):\n",
            " #   Column                 Non-Null Count  Dtype  \n",
            "---  ------                 --------------  -----  \n",
            " 0   adult                  45466 non-null  object \n",
            " 1   belongs_to_collection  4494 non-null   object \n",
            " 2   budget                 45466 non-null  object \n",
            " 3   genres                 45466 non-null  object \n",
            " 4   homepage               7782 non-null   object \n",
            " 5   id                     45466 non-null  object \n",
            " 6   imdb_id                45449 non-null  object \n",
            " 7   original_language      45455 non-null  object \n",
            " 8   original_title         45466 non-null  object \n",
            " 9   overview               44512 non-null  object \n",
            " 10  popularity             45461 non-null  object \n",
            " 11  poster_path            45080 non-null  object \n",
            " 12  production_companies   45463 non-null  object \n",
            " 13  production_countries   45463 non-null  object \n",
            " 14  release_date           45379 non-null  object \n",
            " 15  revenue                45460 non-null  float64\n",
            " 16  runtime                45203 non-null  float64\n",
            " 17  spoken_languages       45460 non-null  object \n",
            " 18  status                 45379 non-null  object \n",
            " 19  tagline                20412 non-null  object \n",
            " 20  title                  45460 non-null  object \n",
            " 21  video                  45460 non-null  object \n",
            " 22  vote_average           45460 non-null  float64\n",
            " 23  vote_count             45460 non-null  float64\n",
            "dtypes: float64(4), object(20)\n",
            "memory usage: 8.3+ MB\n"
          ],
          "name": "stdout"
        }
      ]
    },
    {
      "cell_type": "markdown",
      "metadata": {
        "id": "kDSdADIQUqsh"
      },
      "source": [
        "Calculating mean vote"
      ]
    },
    {
      "cell_type": "code",
      "metadata": {
        "colab": {
          "base_uri": "https://localhost:8080/"
        },
        "id": "EV4L6CMNO2TM",
        "outputId": "e602523e-558e-4ffb-a319-9e9eb525f702"
      },
      "source": [
        "mean=movie['vote_average'].mean()\n",
        "print(mean)"
      ],
      "execution_count": null,
      "outputs": [
        {
          "output_type": "stream",
          "text": [
            "5.618207215133889\n"
          ],
          "name": "stdout"
        }
      ]
    },
    {
      "cell_type": "markdown",
      "metadata": {
        "id": "Rfho1Yg4VC1-"
      },
      "source": [
        "Calculating cutoff value"
      ]
    },
    {
      "cell_type": "code",
      "metadata": {
        "colab": {
          "base_uri": "https://localhost:8080/"
        },
        "id": "gV_yhL6NVAUd",
        "outputId": "ba4303bd-3548-408d-dc46-cf0340e8f5a4"
      },
      "source": [
        "minvote=movie['vote_count'].quantile(0.70)\n",
        "print(minvote)"
      ],
      "execution_count": null,
      "outputs": [
        {
          "output_type": "stream",
          "text": [
            "25.0\n"
          ],
          "name": "stdout"
        }
      ]
    },
    {
      "cell_type": "markdown",
      "metadata": {
        "id": "Zo5ENLmaVZC3"
      },
      "source": [
        "filter the movies in other dataframe"
      ]
    },
    {
      "cell_type": "code",
      "metadata": {
        "id": "qMj_kcW8VUw9"
      },
      "source": [
        "q_movie=movie.copy().loc[movie['vote_count']<=minvote]"
      ],
      "execution_count": null,
      "outputs": []
    },
    {
      "cell_type": "code",
      "metadata": {
        "colab": {
          "base_uri": "https://localhost:8080/"
        },
        "id": "NP8vgwtYVwCQ",
        "outputId": "1bd442c4-444d-45dd-b393-2570b8fe2083"
      },
      "source": [
        "q_movie.shape"
      ],
      "execution_count": null,
      "outputs": [
        {
          "output_type": "execute_result",
          "data": {
            "text/plain": [
              "(31962, 24)"
            ]
          },
          "metadata": {},
          "execution_count": 28
        }
      ]
    },
    {
      "cell_type": "markdown",
      "metadata": {
        "id": "amnxOD21V_7I"
      },
      "source": [
        "computing the weighted average using formula"
      ]
    },
    {
      "cell_type": "code",
      "metadata": {
        "id": "hVlaa54tVx-P"
      },
      "source": [
        "def weighted_rating(x,minimumvote=minvote,meanvote=mean):\n",
        "  voter=x['vote_count']\n",
        "  avg_vote=x['vote_average']\n",
        "  return (voter/(voter+mean)*avg_vote)+(minvote/(minvote)*mean)"
      ],
      "execution_count": null,
      "outputs": []
    },
    {
      "cell_type": "markdown",
      "metadata": {
        "id": "6yqsKDoAnU32"
      },
      "source": [
        "Calculate the score with weighted average in consideration"
      ]
    },
    {
      "cell_type": "code",
      "metadata": {
        "id": "KmRniSpQnRMh"
      },
      "source": [
        "q_movie['score']=q_movie.apply(weighted_rating,axis=1)"
      ],
      "execution_count": null,
      "outputs": []
    },
    {
      "cell_type": "markdown",
      "metadata": {
        "id": "v8KPqv5yn8Vo"
      },
      "source": [
        "sort the dataframe in descending order"
      ]
    },
    {
      "cell_type": "code",
      "metadata": {
        "id": "D34VCMwen2Om"
      },
      "source": [
        "q_movie=q_movie.sort_values('score',ascending=False)"
      ],
      "execution_count": null,
      "outputs": []
    },
    {
      "cell_type": "markdown",
      "metadata": {
        "id": "-dpkN54Yoc4x"
      },
      "source": [
        "setting pandas precision"
      ]
    },
    {
      "cell_type": "code",
      "metadata": {
        "id": "HhFM6ZjUocFW"
      },
      "source": [
        "pd.set_option('precision',2)"
      ],
      "execution_count": null,
      "outputs": []
    },
    {
      "cell_type": "markdown",
      "metadata": {
        "id": "4M-hSGCKon_5"
      },
      "source": [
        "result"
      ]
    },
    {
      "cell_type": "code",
      "metadata": {
        "colab": {
          "base_uri": "https://localhost:8080/",
          "height": 1000
        },
        "id": "dFFzepTcomiu",
        "outputId": "fe0beddb-c199-4e00-a69c-c6593dc60002"
      },
      "source": [
        "q_movie[['title','vote_count','vote_average','score']].head(50)"
      ],
      "execution_count": null,
      "outputs": [
        {
          "output_type": "execute_result",
          "data": {
            "text/html": [
              "<div>\n",
              "<style scoped>\n",
              "    .dataframe tbody tr th:only-of-type {\n",
              "        vertical-align: middle;\n",
              "    }\n",
              "\n",
              "    .dataframe tbody tr th {\n",
              "        vertical-align: top;\n",
              "    }\n",
              "\n",
              "    .dataframe thead th {\n",
              "        text-align: right;\n",
              "    }\n",
              "</style>\n",
              "<table border=\"1\" class=\"dataframe\">\n",
              "  <thead>\n",
              "    <tr style=\"text-align: right;\">\n",
              "      <th></th>\n",
              "      <th>title</th>\n",
              "      <th>vote_count</th>\n",
              "      <th>vote_average</th>\n",
              "      <th>score</th>\n",
              "    </tr>\n",
              "  </thead>\n",
              "  <tbody>\n",
              "    <tr>\n",
              "      <th>42378</th>\n",
              "      <td>Cosy Dens</td>\n",
              "      <td>23.0</td>\n",
              "      <td>8.6</td>\n",
              "      <td>12.53</td>\n",
              "    </tr>\n",
              "    <tr>\n",
              "      <th>24953</th>\n",
              "      <td>Too Many Cooks</td>\n",
              "      <td>24.0</td>\n",
              "      <td>8.5</td>\n",
              "      <td>12.51</td>\n",
              "    </tr>\n",
              "    <tr>\n",
              "      <th>38903</th>\n",
              "      <td>Bruce Lee: The Legend</td>\n",
              "      <td>19.0</td>\n",
              "      <td>8.9</td>\n",
              "      <td>12.49</td>\n",
              "    </tr>\n",
              "    <tr>\n",
              "      <th>27842</th>\n",
              "      <td>The Mask You Live In</td>\n",
              "      <td>21.0</td>\n",
              "      <td>8.7</td>\n",
              "      <td>12.48</td>\n",
              "    </tr>\n",
              "    <tr>\n",
              "      <th>42689</th>\n",
              "      <td>Parched</td>\n",
              "      <td>23.0</td>\n",
              "      <td>8.5</td>\n",
              "      <td>12.45</td>\n",
              "    </tr>\n",
              "    <tr>\n",
              "      <th>4053</th>\n",
              "      <td>Pixote</td>\n",
              "      <td>24.0</td>\n",
              "      <td>8.4</td>\n",
              "      <td>12.42</td>\n",
              "    </tr>\n",
              "    <tr>\n",
              "      <th>22618</th>\n",
              "      <td>The Man Who Sleeps</td>\n",
              "      <td>22.0</td>\n",
              "      <td>8.5</td>\n",
              "      <td>12.39</td>\n",
              "    </tr>\n",
              "    <tr>\n",
              "      <th>10560</th>\n",
              "      <td>Fists in the Pocket</td>\n",
              "      <td>23.0</td>\n",
              "      <td>8.4</td>\n",
              "      <td>12.37</td>\n",
              "    </tr>\n",
              "    <tr>\n",
              "      <th>43321</th>\n",
              "      <td>In This Corner of the World</td>\n",
              "      <td>19.0</td>\n",
              "      <td>8.7</td>\n",
              "      <td>12.33</td>\n",
              "    </tr>\n",
              "    <tr>\n",
              "      <th>20857</th>\n",
              "      <td>Bill Hicks: Revelations</td>\n",
              "      <td>21.0</td>\n",
              "      <td>8.5</td>\n",
              "      <td>12.32</td>\n",
              "    </tr>\n",
              "    <tr>\n",
              "      <th>18629</th>\n",
              "      <td>The Civil War</td>\n",
              "      <td>15.0</td>\n",
              "      <td>9.2</td>\n",
              "      <td>12.31</td>\n",
              "    </tr>\n",
              "    <tr>\n",
              "      <th>24938</th>\n",
              "      <td>Long Way Round</td>\n",
              "      <td>24.0</td>\n",
              "      <td>8.2</td>\n",
              "      <td>12.26</td>\n",
              "    </tr>\n",
              "    <tr>\n",
              "      <th>37200</th>\n",
              "      <td>The Barkley Marathons: The Race That Eats Its ...</td>\n",
              "      <td>25.0</td>\n",
              "      <td>8.1</td>\n",
              "      <td>12.23</td>\n",
              "    </tr>\n",
              "    <tr>\n",
              "      <th>42149</th>\n",
              "      <td>Eu Fico Loko</td>\n",
              "      <td>22.0</td>\n",
              "      <td>8.3</td>\n",
              "      <td>12.23</td>\n",
              "    </tr>\n",
              "    <tr>\n",
              "      <th>25461</th>\n",
              "      <td>Dave Chappelle: For What it's Worth</td>\n",
              "      <td>23.0</td>\n",
              "      <td>8.2</td>\n",
              "      <td>12.21</td>\n",
              "    </tr>\n",
              "    <tr>\n",
              "      <th>8557</th>\n",
              "      <td>An Occurrence at Owl Creek Bridge</td>\n",
              "      <td>19.0</td>\n",
              "      <td>8.5</td>\n",
              "      <td>12.18</td>\n",
              "    </tr>\n",
              "    <tr>\n",
              "      <th>43505</th>\n",
              "      <td>My Annoying Brother</td>\n",
              "      <td>20.0</td>\n",
              "      <td>8.4</td>\n",
              "      <td>12.18</td>\n",
              "    </tr>\n",
              "    <tr>\n",
              "      <th>40009</th>\n",
              "      <td>One More Time with Feeling</td>\n",
              "      <td>20.0</td>\n",
              "      <td>8.4</td>\n",
              "      <td>12.18</td>\n",
              "    </tr>\n",
              "    <tr>\n",
              "      <th>20452</th>\n",
              "      <td>The House Is Black</td>\n",
              "      <td>21.0</td>\n",
              "      <td>8.3</td>\n",
              "      <td>12.17</td>\n",
              "    </tr>\n",
              "    <tr>\n",
              "      <th>42862</th>\n",
              "      <td>Kaabil</td>\n",
              "      <td>23.0</td>\n",
              "      <td>8.1</td>\n",
              "      <td>12.13</td>\n",
              "    </tr>\n",
              "    <tr>\n",
              "      <th>25761</th>\n",
              "      <td>Drishyam</td>\n",
              "      <td>23.0</td>\n",
              "      <td>8.1</td>\n",
              "      <td>12.13</td>\n",
              "    </tr>\n",
              "    <tr>\n",
              "      <th>35248</th>\n",
              "      <td>Hitting the Apex</td>\n",
              "      <td>19.0</td>\n",
              "      <td>8.4</td>\n",
              "      <td>12.10</td>\n",
              "    </tr>\n",
              "    <tr>\n",
              "      <th>28748</th>\n",
              "      <td>Cardcaptor Sakura: The Sealed Card</td>\n",
              "      <td>24.0</td>\n",
              "      <td>8.0</td>\n",
              "      <td>12.10</td>\n",
              "    </tr>\n",
              "    <tr>\n",
              "      <th>33371</th>\n",
              "      <td>Les Misérables in Concert - The 25th Anniversary</td>\n",
              "      <td>24.0</td>\n",
              "      <td>8.0</td>\n",
              "      <td>12.10</td>\n",
              "    </tr>\n",
              "    <tr>\n",
              "      <th>18842</th>\n",
              "      <td>Rush: Beyond the Lighted Stage</td>\n",
              "      <td>21.0</td>\n",
              "      <td>8.2</td>\n",
              "      <td>12.09</td>\n",
              "    </tr>\n",
              "    <tr>\n",
              "      <th>41307</th>\n",
              "      <td>Whiplash</td>\n",
              "      <td>22.0</td>\n",
              "      <td>8.1</td>\n",
              "      <td>12.07</td>\n",
              "    </tr>\n",
              "    <tr>\n",
              "      <th>44390</th>\n",
              "      <td>Hasan Minhaj: Homecoming King</td>\n",
              "      <td>22.0</td>\n",
              "      <td>8.1</td>\n",
              "      <td>12.07</td>\n",
              "    </tr>\n",
              "    <tr>\n",
              "      <th>27912</th>\n",
              "      <td>Estômago: A Gastronomic Story</td>\n",
              "      <td>25.0</td>\n",
              "      <td>7.9</td>\n",
              "      <td>12.07</td>\n",
              "    </tr>\n",
              "    <tr>\n",
              "      <th>25462</th>\n",
              "      <td>Bill Hicks: Relentless</td>\n",
              "      <td>16.0</td>\n",
              "      <td>8.7</td>\n",
              "      <td>12.06</td>\n",
              "    </tr>\n",
              "    <tr>\n",
              "      <th>11705</th>\n",
              "      <td>A Moment of Innocence</td>\n",
              "      <td>23.0</td>\n",
              "      <td>8.0</td>\n",
              "      <td>12.05</td>\n",
              "    </tr>\n",
              "    <tr>\n",
              "      <th>6635</th>\n",
              "      <td>The Song Remains the Same</td>\n",
              "      <td>23.0</td>\n",
              "      <td>8.0</td>\n",
              "      <td>12.05</td>\n",
              "    </tr>\n",
              "    <tr>\n",
              "      <th>18677</th>\n",
              "      <td>Undefeated</td>\n",
              "      <td>24.0</td>\n",
              "      <td>7.9</td>\n",
              "      <td>12.02</td>\n",
              "    </tr>\n",
              "    <tr>\n",
              "      <th>45270</th>\n",
              "      <td>Lou</td>\n",
              "      <td>17.0</td>\n",
              "      <td>8.5</td>\n",
              "      <td>12.01</td>\n",
              "    </tr>\n",
              "    <tr>\n",
              "      <th>12466</th>\n",
              "      <td>Sigur Rós: Heima</td>\n",
              "      <td>22.0</td>\n",
              "      <td>8.0</td>\n",
              "      <td>11.99</td>\n",
              "    </tr>\n",
              "    <tr>\n",
              "      <th>8730</th>\n",
              "      <td>Hearts and Minds</td>\n",
              "      <td>25.0</td>\n",
              "      <td>7.8</td>\n",
              "      <td>11.99</td>\n",
              "    </tr>\n",
              "    <tr>\n",
              "      <th>4929</th>\n",
              "      <td>Little Dieter Needs to Fly</td>\n",
              "      <td>25.0</td>\n",
              "      <td>7.8</td>\n",
              "      <td>11.99</td>\n",
              "    </tr>\n",
              "    <tr>\n",
              "      <th>42579</th>\n",
              "      <td>Everything Will Be OK</td>\n",
              "      <td>19.0</td>\n",
              "      <td>8.2</td>\n",
              "      <td>11.95</td>\n",
              "    </tr>\n",
              "    <tr>\n",
              "      <th>41428</th>\n",
              "      <td>Food Choices</td>\n",
              "      <td>19.0</td>\n",
              "      <td>8.2</td>\n",
              "      <td>11.95</td>\n",
              "    </tr>\n",
              "    <tr>\n",
              "      <th>30041</th>\n",
              "      <td>Radio Day</td>\n",
              "      <td>18.0</td>\n",
              "      <td>8.3</td>\n",
              "      <td>11.94</td>\n",
              "    </tr>\n",
              "    <tr>\n",
              "      <th>8538</th>\n",
              "      <td>When a Woman Ascends the Stairs</td>\n",
              "      <td>20.0</td>\n",
              "      <td>8.1</td>\n",
              "      <td>11.94</td>\n",
              "    </tr>\n",
              "    <tr>\n",
              "      <th>28297</th>\n",
              "      <td>Chris Rock: Bigger &amp; Blacker</td>\n",
              "      <td>24.0</td>\n",
              "      <td>7.8</td>\n",
              "      <td>11.94</td>\n",
              "    </tr>\n",
              "    <tr>\n",
              "      <th>39986</th>\n",
              "      <td>Cardcaptor Sakura: The Movie</td>\n",
              "      <td>24.0</td>\n",
              "      <td>7.8</td>\n",
              "      <td>11.94</td>\n",
              "    </tr>\n",
              "    <tr>\n",
              "      <th>43504</th>\n",
              "      <td>Fabricated City</td>\n",
              "      <td>24.0</td>\n",
              "      <td>7.8</td>\n",
              "      <td>11.94</td>\n",
              "    </tr>\n",
              "    <tr>\n",
              "      <th>16787</th>\n",
              "      <td>Winnie the Pooh and the Honey Tree</td>\n",
              "      <td>24.0</td>\n",
              "      <td>7.8</td>\n",
              "      <td>11.94</td>\n",
              "    </tr>\n",
              "    <tr>\n",
              "      <th>15004</th>\n",
              "      <td>India</td>\n",
              "      <td>17.0</td>\n",
              "      <td>8.4</td>\n",
              "      <td>11.93</td>\n",
              "    </tr>\n",
              "    <tr>\n",
              "      <th>38884</th>\n",
              "      <td>Ali Wong: Baby Cobra</td>\n",
              "      <td>21.0</td>\n",
              "      <td>8.0</td>\n",
              "      <td>11.93</td>\n",
              "    </tr>\n",
              "    <tr>\n",
              "      <th>31892</th>\n",
              "      <td>The Art of Happiness</td>\n",
              "      <td>21.0</td>\n",
              "      <td>8.0</td>\n",
              "      <td>11.93</td>\n",
              "    </tr>\n",
              "    <tr>\n",
              "      <th>26091</th>\n",
              "      <td>Bill Burr: Let It Go</td>\n",
              "      <td>21.0</td>\n",
              "      <td>8.0</td>\n",
              "      <td>11.93</td>\n",
              "    </tr>\n",
              "    <tr>\n",
              "      <th>1036</th>\n",
              "      <td>Shall We Dance</td>\n",
              "      <td>22.0</td>\n",
              "      <td>7.9</td>\n",
              "      <td>11.91</td>\n",
              "    </tr>\n",
              "    <tr>\n",
              "      <th>25538</th>\n",
              "      <td>Bill Burr: You People Are All The Same</td>\n",
              "      <td>22.0</td>\n",
              "      <td>7.9</td>\n",
              "      <td>11.91</td>\n",
              "    </tr>\n",
              "  </tbody>\n",
              "</table>\n",
              "</div>"
            ],
            "text/plain": [
              "                                                   title  ...  score\n",
              "42378                                          Cosy Dens  ...  12.53\n",
              "24953                                     Too Many Cooks  ...  12.51\n",
              "38903                              Bruce Lee: The Legend  ...  12.49\n",
              "27842                               The Mask You Live In  ...  12.48\n",
              "42689                                            Parched  ...  12.45\n",
              "4053                                              Pixote  ...  12.42\n",
              "22618                                 The Man Who Sleeps  ...  12.39\n",
              "10560                                Fists in the Pocket  ...  12.37\n",
              "43321                        In This Corner of the World  ...  12.33\n",
              "20857                            Bill Hicks: Revelations  ...  12.32\n",
              "18629                                      The Civil War  ...  12.31\n",
              "24938                                     Long Way Round  ...  12.26\n",
              "37200  The Barkley Marathons: The Race That Eats Its ...  ...  12.23\n",
              "42149                                       Eu Fico Loko  ...  12.23\n",
              "25461                Dave Chappelle: For What it's Worth  ...  12.21\n",
              "8557                   An Occurrence at Owl Creek Bridge  ...  12.18\n",
              "43505                                My Annoying Brother  ...  12.18\n",
              "40009                         One More Time with Feeling  ...  12.18\n",
              "20452                                 The House Is Black  ...  12.17\n",
              "42862                                             Kaabil  ...  12.13\n",
              "25761                                           Drishyam  ...  12.13\n",
              "35248                                   Hitting the Apex  ...  12.10\n",
              "28748                 Cardcaptor Sakura: The Sealed Card  ...  12.10\n",
              "33371   Les Misérables in Concert - The 25th Anniversary  ...  12.10\n",
              "18842                     Rush: Beyond the Lighted Stage  ...  12.09\n",
              "41307                                           Whiplash  ...  12.07\n",
              "44390                      Hasan Minhaj: Homecoming King  ...  12.07\n",
              "27912                      Estômago: A Gastronomic Story  ...  12.07\n",
              "25462                             Bill Hicks: Relentless  ...  12.06\n",
              "11705                              A Moment of Innocence  ...  12.05\n",
              "6635                           The Song Remains the Same  ...  12.05\n",
              "18677                                         Undefeated  ...  12.02\n",
              "45270                                                Lou  ...  12.01\n",
              "12466                                   Sigur Rós: Heima  ...  11.99\n",
              "8730                                    Hearts and Minds  ...  11.99\n",
              "4929                          Little Dieter Needs to Fly  ...  11.99\n",
              "42579                              Everything Will Be OK  ...  11.95\n",
              "41428                                       Food Choices  ...  11.95\n",
              "30041                                          Radio Day  ...  11.94\n",
              "8538                     When a Woman Ascends the Stairs  ...  11.94\n",
              "28297                       Chris Rock: Bigger & Blacker  ...  11.94\n",
              "39986                       Cardcaptor Sakura: The Movie  ...  11.94\n",
              "43504                                    Fabricated City  ...  11.94\n",
              "16787                 Winnie the Pooh and the Honey Tree  ...  11.94\n",
              "15004                                              India  ...  11.93\n",
              "38884                               Ali Wong: Baby Cobra  ...  11.93\n",
              "31892                               The Art of Happiness  ...  11.93\n",
              "26091                               Bill Burr: Let It Go  ...  11.93\n",
              "1036                                      Shall We Dance  ...  11.91\n",
              "25538             Bill Burr: You People Are All The Same  ...  11.91\n",
              "\n",
              "[50 rows x 4 columns]"
            ]
          },
          "metadata": {},
          "execution_count": 33
        }
      ]
    },
    {
      "cell_type": "code",
      "metadata": {
        "id": "KRZ5SaMOpc6X"
      },
      "source": [
        ""
      ],
      "execution_count": null,
      "outputs": []
    }
  ]
}